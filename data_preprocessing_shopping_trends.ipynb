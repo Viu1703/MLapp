{
 "cells": [
  {
   "cell_type": "code",
   "execution_count": null,
   "metadata": {},
   "outputs": [],
   "source": []
  },
  {
   "cell_type": "code",
   "execution_count": 13,
   "metadata": {},
   "outputs": [
    {
     "name": "stdout",
     "output_type": "stream",
     "text": [
      "<class 'pandas.core.frame.DataFrame'>\n",
      "RangeIndex: 3900 entries, 0 to 3899\n",
      "Data columns (total 19 columns):\n",
      " #   Column                    Non-Null Count  Dtype   \n",
      "---  ------                    --------------  -----   \n",
      " 0   Customer ID               3900 non-null   int64   \n",
      " 1   Age                       3900 non-null   int64   \n",
      " 2   Gender                    3900 non-null   object  \n",
      " 3   Item Purchased            3900 non-null   object  \n",
      " 4   Category                  3900 non-null   object  \n",
      " 5   Purchase Amount (USD)     3900 non-null   int64   \n",
      " 6   Location                  3900 non-null   object  \n",
      " 7   Size                      3900 non-null   object  \n",
      " 8   Color                     3900 non-null   object  \n",
      " 9   Season                    3900 non-null   object  \n",
      " 10  Review Rating             3900 non-null   float64 \n",
      " 11  Subscription Status       3900 non-null   category\n",
      " 12  Payment Method            3900 non-null   object  \n",
      " 13  Shipping Type             3900 non-null   object  \n",
      " 14  Discount Applied          3900 non-null   object  \n",
      " 15  Promo Code Used           3900 non-null   object  \n",
      " 16  Previous Purchases        3900 non-null   int64   \n",
      " 17  Preferred Payment Method  3900 non-null   object  \n",
      " 18  Frequency of Purchases    3900 non-null   object  \n",
      "dtypes: category(1), float64(1), int64(4), object(13)\n",
      "memory usage: 552.5+ KB\n",
      "None\n"
     ]
    }
   ],
   "source": [
    "print(data.info())"
   ]
  },
  {
   "cell_type": "code",
   "execution_count": 11,
   "metadata": {},
   "outputs": [],
   "source": [
    "# Example: Convert 'Age' to integer type if it's not already\n",
    "data['Age'] = data['Age'].astype(int)\n",
    "\n",
    "# Convert 'Subscription Status' to categorical type\n",
    "data['Subscription Status'] = data['Subscription Status'].astype('category')"
   ]
  },
  {
   "cell_type": "code",
   "execution_count": 10,
   "metadata": {},
   "outputs": [
    {
     "name": "stdout",
     "output_type": "stream",
     "text": [
      "Customer ID                   int64\n",
      "Age                           int64\n",
      "Gender                       object\n",
      "Item Purchased               object\n",
      "Category                     object\n",
      "Purchase Amount (USD)         int64\n",
      "Location                     object\n",
      "Size                         object\n",
      "Color                        object\n",
      "Season                       object\n",
      "Review Rating               float64\n",
      "Subscription Status          object\n",
      "Payment Method               object\n",
      "Shipping Type                object\n",
      "Discount Applied             object\n",
      "Promo Code Used              object\n",
      "Previous Purchases            int64\n",
      "Preferred Payment Method     object\n",
      "Frequency of Purchases       object\n",
      "dtype: object\n"
     ]
    }
   ],
   "source": [
    "print(data.dtypes)"
   ]
  },
  {
   "cell_type": "code",
   "execution_count": 9,
   "metadata": {},
   "outputs": [],
   "source": [
    "# Example: Remove outliers\n",
    "data = data[~((data['Purchase Amount (USD)'] < (Q1 - 1.5 * IQR)) | (data['Purchase Amount (USD)'] > (Q3 + 1.5 * IQR)))]\n",
    "\n",
    "# Alternatively, cap outliers\n",
    "data.loc[data['Purchase Amount (USD)'] > (Q3 + 1.5 * IQR), 'Purchase Amount (USD)'] = Q3 + 1.5 * IQR"
   ]
  },
  {
   "cell_type": "code",
   "execution_count": 8,
   "metadata": {},
   "outputs": [
    {
     "name": "stdout",
     "output_type": "stream",
     "text": [
      "Outliers:\n",
      " Empty DataFrame\n",
      "Columns: [Customer ID, Age, Gender, Item Purchased, Category, Purchase Amount (USD), Location, Size, Color, Season, Review Rating, Subscription Status, Payment Method, Shipping Type, Discount Applied, Promo Code Used, Previous Purchases, Preferred Payment Method, Frequency of Purchases]\n",
      "Index: []\n"
     ]
    }
   ],
   "source": [
    "# Calculate Q1 (25th percentile) and Q3 (75th percentile)\n",
    "Q1 = data['Purchase Amount (USD)'].quantile(0.25)\n",
    "Q3 = data['Purchase Amount (USD)'].quantile(0.75)\n",
    "IQR = Q3 - Q1\n",
    "\n",
    "# Identify outliers\n",
    "outliers = data[(data['Purchase Amount (USD)'] < (Q1 - 1.5 * IQR)) | (data['Purchase Amount (USD)'] > (Q3 + 1.5 * IQR))]\n",
    "print(\"Outliers:\\n\", outliers)"
   ]
  },
  {
   "cell_type": "code",
   "execution_count": 7,
   "metadata": {},
   "outputs": [
    {
     "name": "stderr",
     "output_type": "stream",
     "text": [
      "C:\\Users\\Asus\\AppData\\Local\\Temp\\ipykernel_28696\\1722787408.py:2: FutureWarning: A value is trying to be set on a copy of a DataFrame or Series through chained assignment using an inplace method.\n",
      "The behavior will change in pandas 3.0. This inplace method will never work because the intermediate object on which we are setting values always behaves as a copy.\n",
      "\n",
      "For example, when doing 'df[col].method(value, inplace=True)', try using 'df.method({col: value}, inplace=True)' or df[col] = df[col].method(value) instead, to perform the operation inplace on the original object.\n",
      "\n",
      "\n",
      "  data['Review Rating'].fillna(data['Review Rating'].mean(), inplace=True)\n"
     ]
    }
   ],
   "source": [
    "# Example: Fill missing values for 'Review Rating' with the mean\n",
    "data['Review Rating'].fillna(data['Review Rating'].mean(), inplace=True)\n",
    "\n",
    "# Alternatively, drop rows with missing values\n",
    "# data.dropna(inplace=True)"
   ]
  },
  {
   "cell_type": "code",
   "execution_count": null,
   "metadata": {},
   "outputs": [
    {
     "name": "stdout",
     "output_type": "stream",
     "text": [
      "Series([], dtype: int64)\n"
     ]
    }
   ],
   "source": [
    "\n",
    "missing_values = data.isnull().sum()\n",
    "print(missing_values[missing_values > 0])"
   ]
  },
  {
   "cell_type": "code",
   "execution_count": 5,
   "metadata": {},
   "outputs": [
    {
     "name": "stdout",
     "output_type": "stream",
     "text": [
      "       Customer ID          Age  Purchase Amount (USD)  Review Rating  \\\n",
      "count  3900.000000  3900.000000            3900.000000    3900.000000   \n",
      "mean   1950.500000    44.068462              59.764359       3.749949   \n",
      "std    1125.977353    15.207589              23.685392       0.716223   \n",
      "min       1.000000    18.000000              20.000000       2.500000   \n",
      "25%     975.750000    31.000000              39.000000       3.100000   \n",
      "50%    1950.500000    44.000000              60.000000       3.700000   \n",
      "75%    2925.250000    57.000000              81.000000       4.400000   \n",
      "max    3900.000000    70.000000             100.000000       5.000000   \n",
      "\n",
      "       Previous Purchases  \n",
      "count         3900.000000  \n",
      "mean            25.351538  \n",
      "std             14.447125  \n",
      "min              1.000000  \n",
      "25%             13.000000  \n",
      "50%             25.000000  \n",
      "75%             38.000000  \n",
      "max             50.000000  \n"
     ]
    }
   ],
   "source": [
    "#print(data.head())\n",
    "#print(data.info())\n",
    "print(data.describe())"
   ]
  },
  {
   "cell_type": "code",
   "execution_count": 4,
   "metadata": {},
   "outputs": [
    {
     "name": "stdout",
     "output_type": "stream",
     "text": [
      "   Customer ID  Age Gender Item Purchased  Category  Purchase Amount (USD)  \\\n",
      "0            1   55   Male         Blouse  Clothing                     53   \n",
      "1            2   19   Male        Sweater  Clothing                     64   \n",
      "2            3   50   Male          Jeans  Clothing                     73   \n",
      "3            4   21   Male        Sandals  Footwear                     90   \n",
      "4            5   45   Male         Blouse  Clothing                     49   \n",
      "\n",
      "        Location Size      Color  Season  Review Rating Subscription Status  \\\n",
      "0       Kentucky    L       Gray  Winter            3.1                 Yes   \n",
      "1          Maine    L     Maroon  Winter            3.1                 Yes   \n",
      "2  Massachusetts    S     Maroon  Spring            3.1                 Yes   \n",
      "3   Rhode Island    M     Maroon  Spring            3.5                 Yes   \n",
      "4         Oregon    M  Turquoise  Spring            2.7                 Yes   \n",
      "\n",
      "  Payment Method  Shipping Type Discount Applied Promo Code Used  \\\n",
      "0    Credit Card        Express              Yes             Yes   \n",
      "1  Bank Transfer        Express              Yes             Yes   \n",
      "2           Cash  Free Shipping              Yes             Yes   \n",
      "3         PayPal   Next Day Air              Yes             Yes   \n",
      "4           Cash  Free Shipping              Yes             Yes   \n",
      "\n",
      "   Previous Purchases Preferred Payment Method Frequency of Purchases  \n",
      "0                  14                    Venmo            Fortnightly  \n",
      "1                   2                     Cash            Fortnightly  \n",
      "2                  23              Credit Card                 Weekly  \n",
      "3                  49                   PayPal                 Weekly  \n",
      "4                  31                   PayPal               Annually  \n"
     ]
    }
   ],
   "source": [
    "import pandas as pd\n",
    "\n",
    "# Load the dataset\n",
    "data = pd.read_csv('shopping_trends_dataset.csv')\n",
    "\n",
    "# Display the first few rows of the dataset\n",
    "print(data.head())"
   ]
  },
  {
   "cell_type": "code",
   "execution_count": 3,
   "metadata": {},
   "outputs": [
    {
     "name": "stdout",
     "output_type": "stream",
     "text": [
      "Requirement already satisfied: pandas in c:\\users\\asus\\appdata\\local\\programs\\python\\python312\\lib\\site-packages (2.2.3)Note: you may need to restart the kernel to use updated packages.\n",
      "\n",
      "Requirement already satisfied: numpy>=1.26.0 in c:\\users\\asus\\appdata\\local\\programs\\python\\python312\\lib\\site-packages (from pandas) (2.1.3)\n",
      "Requirement already satisfied: python-dateutil>=2.8.2 in c:\\users\\asus\\appdata\\local\\programs\\python\\python312\\lib\\site-packages (from pandas) (2.9.0.post0)\n",
      "Requirement already satisfied: pytz>=2020.1 in c:\\users\\asus\\appdata\\local\\programs\\python\\python312\\lib\\site-packages (from pandas) (2024.2)\n",
      "Requirement already satisfied: tzdata>=2022.7 in c:\\users\\asus\\appdata\\local\\programs\\python\\python312\\lib\\site-packages (from pandas) (2024.2)\n",
      "Requirement already satisfied: six>=1.5 in c:\\users\\asus\\appdata\\local\\programs\\python\\python312\\lib\\site-packages (from python-dateutil>=2.8.2->pandas) (1.16.0)\n"
     ]
    },
    {
     "name": "stderr",
     "output_type": "stream",
     "text": [
      "\n",
      "[notice] A new release of pip is available: 24.2 -> 24.3.1\n",
      "[notice] To update, run: python.exe -m pip install --upgrade pip\n"
     ]
    }
   ],
   "source": [
    "pip install pandas"
   ]
  }
 ],
 "metadata": {
  "kernelspec": {
   "display_name": "Python 3",
   "language": "python",
   "name": "python3"
  },
  "language_info": {
   "codemirror_mode": {
    "name": "ipython",
    "version": 3
   },
   "file_extension": ".py",
   "mimetype": "text/x-python",
   "name": "python",
   "nbconvert_exporter": "python",
   "pygments_lexer": "ipython3",
   "version": "3.12.5"
  }
 },
 "nbformat": 4,
 "nbformat_minor": 2
}
