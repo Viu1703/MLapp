{
 "cells": [
  {
   "cell_type": "code",
   "execution_count": 4,
   "metadata": {},
   "outputs": [
    {
     "name": "stdout",
     "output_type": "stream",
     "text": [
      "Customer ID                 0\n",
      "Age                         0\n",
      "Gender                      0\n",
      "Item Purchased              0\n",
      "Category                    0\n",
      "Purchase Amount (USD)       0\n",
      "Location                    0\n",
      "Size                        0\n",
      "Color                       0\n",
      "Season                      0\n",
      "Review Rating               0\n",
      "Subscription Status         0\n",
      "Payment Method              0\n",
      "Shipping Type               0\n",
      "Discount Applied            0\n",
      "Promo Code Used             0\n",
      "Previous Purchases          0\n",
      "Preferred Payment Method    0\n",
      "Frequency of Purchases      0\n",
      "dtype: int64\n"
     ]
    },
    {
     "name": "stderr",
     "output_type": "stream",
     "text": [
      "C:\\Users\\Asus\\AppData\\Local\\Temp\\ipykernel_1924\\1731686896.py:20: FutureWarning: A value is trying to be set on a copy of a DataFrame or Series through chained assignment using an inplace method.\n",
      "The behavior will change in pandas 3.0. This inplace method will never work because the intermediate object on which we are setting values always behaves as a copy.\n",
      "\n",
      "For example, when doing 'df[col].method(value, inplace=True)', try using 'df.method({col: value}, inplace=True)' or df[col] = df[col].method(value) instead, to perform the operation inplace on the original object.\n",
      "\n",
      "\n",
      "  data[col].fillna(data[col].mode()[0], inplace=True)\n"
     ]
    },
    {
     "name": "stdout",
     "output_type": "stream",
     "text": [
      "Mean Squared Error: 583.2240535897436\n",
      "R^2 Score: -0.04224879657849234\n",
      "Mean Absolute Error: 20.976384615384614\n"
     ]
    }
   ],
   "source": [
    "from sklearn.model_selection import train_test_split\n",
    "from sklearn.ensemble import RandomForestRegressor\n",
    "from sklearn.metrics import mean_squared_error, r2_score, mean_absolute_error\n",
    "import joblib\n",
    "import pandas as pd\n",
    "\n",
    "# Load your dataset (assuming it's already cleaned and prepared)\n",
    "data = pd.read_csv('shopping_trends_dataset.csv')\n",
    "\n",
    "# Check for missing values\n",
    "print(data.isnull().sum())\n",
    "\n",
    "# Handle missing values for numerical columns with mean\n",
    "numerical_cols = data.select_dtypes(include=['float64', 'int64']).columns\n",
    "data[numerical_cols] = data[numerical_cols].fillna(data[numerical_cols].mean())\n",
    "\n",
    "# Fill missing values for categorical columns with mode\n",
    "categorical_cols = data.select_dtypes(include=['object']).columns\n",
    "for col in categorical_cols:\n",
    "    data[col].fillna(data[col].mode()[0], inplace=True)\n",
    "\n",
    "# Convert categorical variables to dummy variables (one-hot encoding)\n",
    "data = pd.get_dummies(data, drop_first=True)\n",
    "\n",
    "# Prepare features (X) and target variable (y)\n",
    "X = data.drop('Purchase Amount (USD)', axis=1)  # Features\n",
    "y = data['Purchase Amount (USD)']  # Target variable\n",
    "\n",
    "# Split the dataset into training and testing sets (80% train, 20% test)\n",
    "X_train, X_test, y_train, y_test = train_test_split(X, y, test_size=0.2, random_state=42)\n",
    "\n",
    "# Initialize and train the Random Forest model\n",
    "model = RandomForestRegressor(random_state=42)\n",
    "model.fit(X_train, y_train)\n",
    "\n",
    "# Save the trained model using joblib for later use in the web app\n",
    "joblib.dump(model, 'purchase_predictor_model.pkl')\n",
    "\n",
    "# Make predictions on the test set\n",
    "y_pred = model.predict(X_test)\n",
    "\n",
    "# Calculate performance metrics\n",
    "mse = mean_squared_error(y_test, y_pred)\n",
    "r2 = r2_score(y_test, y_pred)\n",
    "mae = mean_absolute_error(y_test, y_pred)\n",
    "\n",
    "print(f\"Mean Squared Error: {mse}\")\n",
    "print(f\"R^2 Score: {r2}\")\n",
    "print(f\"Mean Absolute Error: {mae}\")\n"
   ]
  },
  {
   "cell_type": "code",
   "execution_count": 1,
   "metadata": {},
   "outputs": [
    {
     "name": "stdout",
     "output_type": "stream",
     "text": [
      "Customer ID                 0\n",
      "Age                         0\n",
      "Gender                      0\n",
      "Item Purchased              0\n",
      "Category                    0\n",
      "Purchase Amount (USD)       0\n",
      "Location                    0\n",
      "Size                        0\n",
      "Color                       0\n",
      "Season                      0\n",
      "Review Rating               0\n",
      "Subscription Status         0\n",
      "Payment Method              0\n",
      "Shipping Type               0\n",
      "Discount Applied            0\n",
      "Promo Code Used             0\n",
      "Previous Purchases          0\n",
      "Preferred Payment Method    0\n",
      "Frequency of Purchases      0\n",
      "dtype: int64\n"
     ]
    },
    {
     "name": "stderr",
     "output_type": "stream",
     "text": [
      "C:\\Users\\Asus\\AppData\\Local\\Temp\\ipykernel_16408\\143003013.py:17: FutureWarning: A value is trying to be set on a copy of a DataFrame or Series through chained assignment using an inplace method.\n",
      "The behavior will change in pandas 3.0. This inplace method will never work because the intermediate object on which we are setting values always behaves as a copy.\n",
      "\n",
      "For example, when doing 'df[col].method(value, inplace=True)', try using 'df.method({col: value}, inplace=True)' or df[col] = df[col].method(value) instead, to perform the operation inplace on the original object.\n",
      "\n",
      "\n",
      "  data[col].fillna(data[col].mode()[0], inplace=True)\n"
     ]
    }
   ],
   "source": [
    "import pandas as pd\n",
    "import numpy as np\n",
    "\n",
    "# Load the dataset\n",
    "data = pd.read_csv('shopping_trends_dataset.csv')\n",
    "\n",
    "# Check for missing values\n",
    "print(data.isnull().sum())\n",
    "\n",
    "# Handle missing values for numerical columns with mean\n",
    "numerical_cols = data.select_dtypes(include=['float64', 'int64']).columns\n",
    "data[numerical_cols] = data[numerical_cols].fillna(data[numerical_cols].mean())\n",
    "\n",
    "# Fill missing values for categorical columns with mode\n",
    "categorical_cols = data.select_dtypes(include=['object']).columns\n",
    "for col in categorical_cols:\n",
    "    data[col].fillna(data[col].mode()[0], inplace=True)\n",
    "\n",
    "# Convert categorical variables to dummy variables\n",
    "data = pd.get_dummies(data, drop_first=True)\n",
    "\n",
    "# Check for outliers in 'Purchase Amount (USD)'\n",
    "Q1 = data['Purchase Amount (USD)'].quantile(0.25)\n",
    "Q3 = data['Purchase Amount (USD)'].quantile(0.75)\n",
    "IQR = Q3 - Q1\n",
    "\n",
    "# Remove outliers\n",
    "data = data[~((data['Purchase Amount (USD)'] < (Q1 - 1.5 * IQR)) | \n",
    "               (data['Purchase Amount (USD)'] > (Q3 + 1.5 * IQR)))]\n",
    "\n",
    "# Prepare features (X) and target variable (y)\n",
    "X = data.drop('Purchase Amount (USD)', axis=1)  # Features\n",
    "y = data['Purchase Amount (USD)']  # Target variable\n"
   ]
  }
 ],
 "metadata": {
  "kernelspec": {
   "display_name": "Python 3",
   "language": "python",
   "name": "python3"
  },
  "language_info": {
   "codemirror_mode": {
    "name": "ipython",
    "version": 3
   },
   "file_extension": ".py",
   "mimetype": "text/x-python",
   "name": "python",
   "nbconvert_exporter": "python",
   "pygments_lexer": "ipython3",
   "version": "3.12.5"
  }
 },
 "nbformat": 4,
 "nbformat_minor": 2
}
